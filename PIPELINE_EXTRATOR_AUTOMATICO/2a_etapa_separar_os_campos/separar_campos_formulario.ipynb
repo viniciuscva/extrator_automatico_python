{
 "cells": [
  {
   "cell_type": "code",
   "execution_count": null,
   "metadata": {
    "id": "FlgNPRIj3oge"
   },
   "outputs": [],
   "source": [
    "#MÉTODO INSPIRADO NA PROPOSTA DE ROSEBROCK, DISPONÍVEL EM: https://www.pyimagesearch.com/2020/09/07/ocr-a-document-form-or-invoice-with-tesseract-opencv-and-python/"
   ]
  },
  {
   "cell_type": "code",
   "execution_count": null,
   "metadata": {},
   "outputs": [],
   "source": [
    "import cv2"
   ]
  },
  {
   "cell_type": "code",
   "execution_count": null,
   "metadata": {
    "id": "DR0_DOdq3ogi"
   },
   "outputs": [],
   "source": [
    "img = cv2.imread('/home/vinicius/Documents/tcc/template.png')\n",
    "cv2.imshow(\"Imagem\",img)\n",
    "cv2.waitKey(0)\n",
    "cv2.destroyAllWindows()"
   ]
  },
  {
   "cell_type": "code",
   "execution_count": null,
   "metadata": {
    "id": "4ANJHPiH3ogo",
    "outputId": "ee007147-ad54-4f7b-ea73-cc14004c0fbf"
   },
   "outputs": [],
   "source": [
    "import os\n",
    "directory = '/home/vinicius/Documents/tcc/teste1'\n",
    "os.system(f'if [ ! -d \"{directory}/campos\" ]; then mkdir {directory}/campos; fi;')\n",
    "os.system(f'if [ ! -d \"{directory}/campos/nome\" ]; then mkdir {directory}/campos/nome; fi;')\n",
    "os.system(f'if [ ! -d \"{directory}/campos/data\" ]; then mkdir {directory}/campos/data; fi;')\n",
    "os.system(f'if [ ! -d \"{directory}/campos/matricula\" ]; then mkdir {directory}/campos/matricula; fi;')\n",
    "os.system(f'if [ ! -d \"{directory}/campos/telefone\" ]; then mkdir {directory}/campos/telefone; fi;')\n",
    "os.system(f'if [ ! -d \"{directory}/campos/email\" ]; then mkdir {directory}/campos/email; fi;')\n",
    "os.system(f'if [ ! -d \"{directory}/campos/esclarecimento\" ]; then mkdir {directory}/campos/esclarecimento; fi;')"
   ]
  },
  {
   "cell_type": "code",
   "execution_count": null,
   "metadata": {
    "id": "Clm-OgtT3ogp",
    "outputId": "39afd7a3-32a5-48e7-90f8-0a7a7e721350"
   },
   "outputs": [
    {
     "name": "stdout",
     "output_type": "stream",
     "text": [
      "posicao_rel_data: [0.12357414448669202, 0.16730038022813687, 0.7123655913978495, 0.967741935483871]\n",
      "posicao_rel_nome: [0.1596958174904943, 0.20912547528517111, 0.04032258064516129, 0.967741935483871]\n",
      "posicao_rel_matricula: [0.20912547528517111, 0.23954372623574144, 0.04032258064516129, 0.45698924731182794]\n",
      "posicao_rel_telefone: [0.23954372623574144, 0.2661596958174905, 0.04032258064516129, 0.30913978494623656]\n",
      "posicao_rel_email: [0.2376425855513308, 0.2661596958174905, 0.2956989247311828, 0.967741935483871]\n",
      "posicao_rel_esclarecimento: [0.49429657794676807, 0.6977186311787072, 0.04032258064516129, 0.967741935483871]\n"
     ]
    }
   ],
   "source": [
    "#ANOTAÇÕES MANUAIS DAS COORDENADAS DOS CAMPOS NO FORMULÁRIO DE REQUERIMENTO DA UEPB NA RESOLUÇÃO 372x526\n",
    "data = [265, 65, 360, 88]\n",
    "nome = [15, 84, 360, 110]\n",
    "matricula = [15, 110, 170, 126]\n",
    "telefone = [15, 126, 115, 140]\n",
    "email = [110, 125, 360, 140]\n",
    "esclarecimento = [15, 260, 360, 367]\n",
    "\n",
    "#ficará no padrão y1, y2, x1, x2\n",
    "posicao_rel_data = [data[1]/526, data[3]/526, data[0]/372, data[2]/372]\n",
    "posicao_rel_nome = [nome[1]/526, nome[3]/526, nome[0]/372, nome[2]/372]\n",
    "posicao_rel_matricula = [matricula[1]/526, matricula[3]/526, matricula[0]/372, matricula[2]/372]\n",
    "posicao_rel_telefone = [telefone[1]/526, telefone[3]/526, telefone[0]/372, telefone[2]/372]\n",
    "posicao_rel_email = [email[1]/526, email[3]/526, email[0]/372, email[2]/372]\n",
    "posicao_rel_esclarecimento = [esclarecimento[1]/526, esclarecimento[3]/526, esclarecimento[0]/372, esclarecimento[2]/372]\n",
    "\n",
    "\n",
    "print('posicao_rel_data:',posicao_rel_data)\n",
    "print('posicao_rel_nome:',posicao_rel_nome)\n",
    "print('posicao_rel_matricula:',posicao_rel_matricula)\n",
    "print('posicao_rel_telefone:',posicao_rel_telefone)\n",
    "print('posicao_rel_email:',posicao_rel_email)\n",
    "print('posicao_rel_esclarecimento:',posicao_rel_esclarecimento)"
   ]
  },
  {
   "cell_type": "code",
   "execution_count": null,
   "metadata": {
    "id": "G9xXSZFa3ogq"
   },
   "outputs": [],
   "source": [
    "#padrão: y1, y2, x1, x2\n",
    "width = 992\n",
    "height = 1403\n",
    "\n",
    "posicao_nome = [posicao_rel_nome[0]*height,\n",
    "                posicao_rel_nome[1]*height,\n",
    "                posicao_rel_nome[2]*width,\n",
    "                posicao_rel_nome[3]*width]\n",
    "posicao_nome = [round(i) for i in posicao_nome]\n",
    "\n",
    "posicao_data = [posicao_rel_data[0]*height,\n",
    "                posicao_rel_data[1]*height,\n",
    "                posicao_rel_data[2]*width,\n",
    "                posicao_rel_data[3]*width]\n",
    "posicao_data = [round(i) for i in posicao_data]\n",
    "\n",
    "posicao_matricula = [posicao_rel_matricula[0]*height,\n",
    "                posicao_rel_matricula[1]*height,\n",
    "                posicao_rel_matricula[2]*width,\n",
    "                posicao_rel_matricula[3]*width]\n",
    "posicao_matricula = [round(i) for i in posicao_matricula]\n",
    "\n",
    "posicao_telefone = [posicao_rel_telefone[0]*height,\n",
    "                posicao_rel_telefone[1]*height,\n",
    "                posicao_rel_telefone[2]*width,\n",
    "                posicao_rel_telefone[3]*width]\n",
    "posicao_telefone = [round(i) for i in posicao_telefone]\n",
    "\n",
    "posicao_email = [posicao_rel_email[0]*height,\n",
    "                posicao_rel_email[1]*height,\n",
    "                posicao_rel_email[2]*width,\n",
    "                posicao_rel_email[3]*width]\n",
    "posicao_email = [round(i) for i in posicao_email]\n",
    "\n",
    "posicao_esclarecimento = [posicao_rel_esclarecimento[0]*height,\n",
    "                posicao_rel_esclarecimento[1]*height,\n",
    "                posicao_rel_esclarecimento[2]*width,\n",
    "                posicao_rel_esclarecimento[3]*width]\n",
    "posicao_esclarecimento = [round(i) for i in posicao_esclarecimento]"
   ]
  },
  {
   "cell_type": "code",
   "execution_count": null,
   "metadata": {
    "id": "vuGngJMH3ogq",
    "outputId": "69edcb3c-8331-4203-a48f-d88678463b48"
   },
   "outputs": [
    {
     "name": "stdout",
     "output_type": "stream",
     "text": [
      "[224, 293, 40, 960]\n",
      "[173, 235, 707, 960]\n",
      "[293, 336, 40, 453]\n",
      "[336, 373, 40, 307]\n",
      "[333, 373, 293, 960]\n",
      "[693, 979, 40, 960]\n"
     ]
    }
   ],
   "source": [
    "print(posicao_nome)\n",
    "print(posicao_data)\n",
    "print(posicao_matricula)\n",
    "print(posicao_telefone)\n",
    "print(posicao_email)\n",
    "print(posicao_esclarecimento)"
   ]
  },
  {
   "cell_type": "code",
   "execution_count": null,
   "metadata": {
    "id": "jzivz5c23ogr"
   },
   "outputs": [],
   "source": [
    "def extrair_campo_nome(img, nome_img, diretorio_destino):\n",
    "    y1 = posicao_nome[0]\n",
    "    y2 = posicao_nome[1]\n",
    "    x1 = posicao_nome[2]\n",
    "    x2 = posicao_nome[3]\n",
    "    campo_nome = img[y1:y2, x1:x2]\n",
    "    cv2.imwrite(f'{diretorio_destino}/{nome_img}_campo_nome.jpg', campo_nome)"
   ]
  },
  {
   "cell_type": "code",
   "execution_count": null,
   "metadata": {
    "id": "xEqkw7ja3ogr"
   },
   "outputs": [],
   "source": [
    "def extrair_campo_data(img, nome_img, diretorio_destino):\n",
    "    y1 = posicao_data[0]\n",
    "    y2 = posicao_data[1]\n",
    "    x1 = posicao_data[2]\n",
    "    x2 = posicao_data[3]\n",
    "    campo_data = img[y1:y2, x1:x2]\n",
    "    cv2.imwrite(f'{diretorio_destino}/{nome_img}_campo_data.jpg', campo_data)"
   ]
  },
  {
   "cell_type": "code",
   "execution_count": null,
   "metadata": {
    "id": "2ASHIwyL3ogr"
   },
   "outputs": [],
   "source": [
    "def extrair_campo_matricula(img, nome_img, diretorio_destino):\n",
    "    y1 = posicao_matricula[0]\n",
    "    y2 = posicao_matricula[1]\n",
    "    x1 = posicao_matricula[2]\n",
    "    x2 = posicao_matricula[3]\n",
    "    campo_matricula = img[y1:y2, x1:x2]\n",
    "    cv2.imwrite(f'{diretorio_destino}/{nome_img}_campo_matricula.jpg', campo_matricula)"
   ]
  },
  {
   "cell_type": "code",
   "execution_count": null,
   "metadata": {
    "id": "JpPDnsMQ3ogr"
   },
   "outputs": [],
   "source": [
    "def extrair_campo_telefone(img, nome_img, diretorio_destino):\n",
    "    y1 = posicao_telefone[0]\n",
    "    y2 = posicao_telefone[1]\n",
    "    x1 = posicao_telefone[2]\n",
    "    x2 = posicao_telefone[3]\n",
    "    campo_telefone = img[y1:y2, x1:x2]\n",
    "    cv2.imwrite(f'{diretorio_destino}/{nome_img}_campo_telefone.jpg', campo_telefone)"
   ]
  },
  {
   "cell_type": "code",
   "execution_count": null,
   "metadata": {
    "id": "nm0KtTKd3ogr"
   },
   "outputs": [],
   "source": [
    "def extrair_campo_email(img, nome_img, diretorio_destino):\n",
    "    y1 = posicao_email[0]\n",
    "    y2 = posicao_email[1]\n",
    "    x1 = posicao_email[2]\n",
    "    x2 = posicao_email[3]\n",
    "    campo_email = img[y1:y2, x1:x2]\n",
    "    cv2.imwrite(f'{diretorio_destino}/{nome_img}_campo_email.jpg', campo_email)"
   ]
  },
  {
   "cell_type": "code",
   "execution_count": null,
   "metadata": {
    "id": "RrXD7isJ3ogs"
   },
   "outputs": [],
   "source": [
    "def extrair_campo_esclarecimento(img, nome_img, diretorio_destino):\n",
    "    y1 = posicao_esclarecimento[0]\n",
    "    y2 = posicao_esclarecimento[1]\n",
    "    x1 = posicao_esclarecimento[2]\n",
    "    x2 = posicao_esclarecimento[3]\n",
    "    campo_esclarecimento = img[y1:y2, x1:x2]\n",
    "    cv2.imwrite(f'{diretorio_destino}/{nome_img}_campo_esclarecimento.jpg', campo_esclarecimento)"
   ]
  },
  {
   "cell_type": "code",
   "execution_count": null,
   "metadata": {
    "id": "hINCiVH53ogs"
   },
   "outputs": [],
   "source": [
    "import cv2\n",
    "directory = '/home/vinicius/Documents/tcc/teste1'\n",
    "for filename in os.listdir(f'{directory}/JPG/Alinhadas'):\n",
    "    if not filename.endswith('.jpg'):\n",
    "        continue\n",
    "    img = cv2.imread(f'{directory}/JPG/Alinhadas/{filename}')\n",
    "    extrair_campo_nome(img, filename.split(\"_\")[0], f'{directory}/campos/nome')\n",
    "    extrair_campo_data(img, filename.split(\"_\")[0], f'{directory}/campos/data')\n",
    "    extrair_campo_matricula(img, filename.split(\"_\")[0], f'{directory}/campos/matricula')\n",
    "    extrair_campo_telefone(img, filename.split(\"_\")[0], f'{directory}/campos/telefone')\n",
    "    extrair_campo_email(img, filename.split(\"_\")[0], f'{directory}/campos/email')\n",
    "    extrair_campo_esclarecimento(img, filename.split(\"_\")[0], f'{directory}/campos/esclarecimento')"
   ]
  }
 ],
 "metadata": {
  "colab": {
   "name": "separar_campos_formulario.ipynb",
   "provenance": []
  },
  "kernelspec": {
   "display_name": "Python 3",
   "language": "python",
   "name": "python3"
  },
  "language_info": {
   "codemirror_mode": {
    "name": "ipython",
    "version": 3
   },
   "file_extension": ".py",
   "mimetype": "text/x-python",
   "name": "python",
   "nbconvert_exporter": "python",
   "pygments_lexer": "ipython3",
   "version": "3.8.8"
  }
 },
 "nbformat": 4,
 "nbformat_minor": 4
}
