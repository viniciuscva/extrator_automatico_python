{
 "cells": [
  {
   "cell_type": "markdown",
   "id": "48791824-b41a-448c-844b-4b08a5d60981",
   "metadata": {},
   "source": [
    "# Este código gera uma base de alunos JSON a partir das anotações ground-truth feitas em arquivos JSON a partir do conjunto de dados"
   ]
  },
  {
   "cell_type": "code",
   "execution_count": null,
   "id": "e82ff0b1-1859-4662-b238-b65817da264c",
   "metadata": {},
   "outputs": [],
   "source": [
    "import os\n",
    "import json"
   ]
  },
  {
   "cell_type": "code",
   "execution_count": null,
   "id": "c8026a52-0ff4-41b9-91e1-294c7e6d3304",
   "metadata": {},
   "outputs": [],
   "source": [
    "directory = 'JSON'\n",
    "\n",
    "base_alunos = []\n",
    "\n",
    "for filename in os.listdir(directory):\n",
    "    if not filename.endswith('JSON'):\n",
    "        continue\n",
    "    with open(f'{directory}/{filename}', 'r', encoding='utf8') as f:\n",
    "        dados = json.load(f)#é um dict\n",
    "        if dados['nome'] not in [base_alunos[i]['nome'] for i in range(len(base_alunos))]:\n",
    "            novo_aluno = {'id': int(filename.split('.')[0]), 'matricula': dados['matricula'], 'nome': dados['nome'], 'telefone': dados['telefone'], 'email': dados['email']}\n",
    "            base_alunos.append(novo_aluno)\n",
    "[i for i in base_alunos]"
   ]
  },
  {
   "cell_type": "code",
   "execution_count": null,
   "id": "d91e1fab-98cf-45a0-b2c9-2ca1a15b5169",
   "metadata": {},
   "outputs": [],
   "source": [
    "sorted([ (f['id'],f['nome']) for f in base_alunos])"
   ]
  },
  {
   "cell_type": "code",
   "execution_count": null,
   "id": "a0005de7-ef14-4344-a5ac-bd4ed8902fdf",
   "metadata": {},
   "outputs": [],
   "source": [
    "with open('base_alunos.json', 'w', encoding='utf8') as f:\n",
    "        json.dump(base_alunos, f, ensure_ascii=False, indent=4, separators=(',', ':'))"
   ]
  }
 ],
 "metadata": {
  "kernelspec": {
   "display_name": "Python 3",
   "language": "python",
   "name": "python3"
  },
  "language_info": {
   "codemirror_mode": {
    "name": "ipython",
    "version": 3
   },
   "file_extension": ".py",
   "mimetype": "text/x-python",
   "name": "python",
   "nbconvert_exporter": "python",
   "pygments_lexer": "ipython3",
   "version": "3.8.8"
  }
 },
 "nbformat": 4,
 "nbformat_minor": 5
}
